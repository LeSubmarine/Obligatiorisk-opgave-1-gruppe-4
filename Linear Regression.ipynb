{
 "cells": [
  {
   "cell_type": "code",
   "execution_count": 1,
   "metadata": {},
   "outputs": [],
   "source": [
    "import pandas as pd\n",
    "import numpy as np\n",
    "import matplotlib.pyplot as plt\n",
    "from sklearn.pipeline import Pipeline\n",
    "from sklearn.preprocessing import StandardScaler"
   ]
  },
  {
   "cell_type": "code",
   "execution_count": 2,
   "metadata": {},
   "outputs": [],
   "source": [
    "#Data importet\n",
    "startUps = pd.read_csv(\"50_Startups.csv\")\n",
    "df = pd.DataFrame(startUps)"
   ]
  },
  {
   "cell_type": "code",
   "execution_count": 3,
   "metadata": {},
   "outputs": [],
   "source": [
    "#Gør train data klar\n",
    "\n",
    "\n",
    "startUps_num = startUps.copy().drop(\"State\", axis=1)\n",
    "startUps_num = startUps_num.drop(\"Profit\", axis=1)\n",
    "\n",
    "scale_pipeline = Pipeline([\n",
    "        ('std_scaler', StandardScaler()),\n",
    "    ])\n",
    "\n",
    "#data set er nu klart til brug, (både scalet og state+profit droppet)\n",
    "startUps_num_tr = scale_pipeline.fit_transform(startUps_num)"
   ]
  },
  {
   "cell_type": "code",
   "execution_count": 4,
   "metadata": {},
   "outputs": [],
   "source": [
    "#Gør  labels klar\n",
    "startups_label = startUps.copy().drop(\"State\", axis=1).drop(\"R&D Spend\", axis=1).drop(\"Administration\", axis=1).drop(\"Marketing Spend\", axis=1)\n",
    "startups_label_tr = scale_pipeline.fit_transform(startups_label)"
   ]
  },
  {
   "cell_type": "code",
   "execution_count": 5,
   "metadata": {},
   "outputs": [
    {
     "data": {
      "text/plain": [
       "LinearRegression()"
      ]
     },
     "execution_count": 5,
     "metadata": {},
     "output_type": "execute_result"
    }
   ],
   "source": [
    "from sklearn.linear_model import LinearRegression\n",
    "from sklearn.compose import ColumnTransformer\n",
    "\n",
    "\n",
    "lin_reg = LinearRegression()\n",
    "lin_reg.fit(startUps_num_tr, startups_label_tr)"
   ]
  },
  {
   "cell_type": "code",
   "execution_count": 8,
   "metadata": {},
   "outputs": [
    {
     "name": "stdout",
     "output_type": "stream",
     "text": [
      "270339367.8051609\n",
      "16442.000115714658\n",
      "      Profit\n",
      "5  156991.12\n",
      "6  156122.51\n",
      "7  155752.60\n",
      "8  152211.77\n",
      "9  149759.96\n"
     ]
    }
   ],
   "source": [
    "predicted_labels = lin_reg.predict(startUps_num[5:10])\n",
    "real_labels = startups_label[5:10]\n",
    "\n",
    "from sklearn.metrics import mean_squared_error\n",
    "\n",
    "#Mean square error for punkter fra 5 til 10\n",
    "lin_mse = mean_squared_error(real_labels, predicted_labels)\n",
    "lin_rmse = np.sqrt(lin_mse)\n",
    "print(lin_mse)\n",
    "print(lin_rmse)\n",
    "print(startups_label[5:10])"
   ]
  },
  {
   "cell_type": "code",
   "execution_count": 21,
   "metadata": {},
   "outputs": [],
   "source": [
    "predicted_labels = lin_reg.predict(startUps_num_tr)\n",
    "real_labels = startups_label_tr\n",
    "\n",
    "from sklearn.metrics import mean_squared_error\n",
    "\n",
    "#Mean square error for alle punkter\n",
    "lin_mse = mean_squared_error(real_labels, predicted_labels)\n",
    "lin_rmse = np.sqrt(lin_mse)"
   ]
  },
  {
   "cell_type": "code",
   "execution_count": 24,
   "metadata": {},
   "outputs": [
    {
     "name": "stdout",
     "output_type": "stream",
     "text": [
      "[[ 0.91757985 -0.01864043  0.08261087]]\n"
     ]
    }
   ],
   "source": [
    "print(lin_reg.coef_)"
   ]
  },
  {
   "cell_type": "code",
   "execution_count": null,
   "metadata": {},
   "outputs": [],
   "source": []
  }
 ],
 "metadata": {
  "kernelspec": {
   "display_name": "Python 3",
   "language": "python",
   "name": "python3"
  },
  "language_info": {
   "codemirror_mode": {
    "name": "ipython",
    "version": 3
   },
   "file_extension": ".py",
   "mimetype": "text/x-python",
   "name": "python",
   "nbconvert_exporter": "python",
   "pygments_lexer": "ipython3",
   "version": "3.8.5"
  }
 },
 "nbformat": 4,
 "nbformat_minor": 4
}
