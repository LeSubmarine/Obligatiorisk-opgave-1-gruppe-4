{
 "cells": [
  {
   "cell_type": "code",
   "execution_count": 1,
   "metadata": {},
   "outputs": [],
   "source": [
    "import pandas as pd\n",
    "import numpy as np"
   ]
  },
  {
   "cell_type": "code",
   "execution_count": 2,
   "metadata": {},
   "outputs": [],
   "source": [
    "startUps = pd.read_csv(\"50_Startups.csv\")\n",
    "df = pd.DataFrame(startUps)"
   ]
  },
  {
   "cell_type": "code",
   "execution_count": 3,
   "metadata": {},
   "outputs": [],
   "source": [
    "from sklearn.model_selection import train_test_split\n",
    "\n",
    "train_set, test_set = train_test_split(startUps, test_size=0.25, random_state=42)"
   ]
  },
  {
   "cell_type": "code",
   "execution_count": 4,
   "metadata": {},
   "outputs": [
    {
     "name": "stdout",
     "output_type": "stream",
     "text": [
      "    R&D Spend  Administration  Marketing Spend       State     Profit\n",
      "13   91992.39       135495.07        252664.93  California  134307.35\n",
      "39   38558.51        82982.09        174999.30  California   81005.76\n",
      "30   61994.48       115641.28         91131.24     Florida   99937.59\n",
      "45    1000.23       124153.04          1903.93    New York   64926.08\n",
      "17   94657.16       145077.58        282574.31    New York  125370.37\n",
      "\n",
      "\n",
      "    R&D Spend  Administration  Marketing Spend       State     Profit\n",
      "8   120542.52       148718.95        311613.29    New York  152211.77\n",
      "3   144372.41       118671.85        383199.62    New York  182901.99\n",
      "6   134615.46       147198.87        127716.82  California  156122.51\n",
      "41   27892.92        84710.77        164470.71     Florida   77798.83\n",
      "46    1315.46       115816.21        297114.46     Florida   49490.75\n"
     ]
    }
   ],
   "source": [
    "print(test_set.head())\n",
    "\n",
    "print()\n",
    "print()\n",
    "\n",
    "print(train_set.head())"
   ]
  },
  {
   "cell_type": "code",
   "execution_count": 5,
   "metadata": {},
   "outputs": [
    {
     "name": "stdout",
     "output_type": "stream",
     "text": [
      "           R&D Spend  Administration  Marketing Spend         Profit\n",
      "count      13.000000       13.000000        13.000000      13.000000\n",
      "mean    66046.769231   114731.566154    148800.686923  105560.441538\n",
      "std     39091.488238    34569.751348    118752.655685   34122.209473\n",
      "min       542.050000    51283.140000         0.000000   35673.410000\n",
      "25%     44069.950000    91391.770000     46085.250000   89949.140000\n",
      "50%     64664.710000   127320.380000    137962.620000  105733.540000\n",
      "75%     91992.390000   139553.160000    249839.440000  125370.370000\n",
      "max    142107.340000   153514.110000    366168.420000  166187.940000\n",
      "\n",
      "\n",
      "           R&D Spend  Administration  Marketing Spend         Profit\n",
      "count      37.000000       37.000000        37.000000      37.000000\n",
      "mean    76418.183243   123668.151892    232887.728649  114279.627568\n",
      "std     48267.575903    25470.994353    117324.964160   42459.642764\n",
      "min         0.000000    65947.930000         0.000000   14681.400000\n",
      "25%     28754.330000   105751.030000    148001.110000   90708.190000\n",
      "50%     73994.560000   121597.550000    249744.550000  108733.990000\n",
      "75%    119943.240000   147198.870000    304768.730000  146121.950000\n",
      "max    165349.200000   182645.560000    471784.100000  192261.830000\n"
     ]
    }
   ],
   "source": [
    "print(test_set.describe())\n",
    "\n",
    "print()\n",
    "print()\n",
    "\n",
    "print(train_set.describe())"
   ]
  },
  {
   "cell_type": "code",
   "execution_count": 7,
   "metadata": {},
   "outputs": [
    {
     "ename": "NameError",
     "evalue": "name 'plt' is not defined",
     "output_type": "error",
     "traceback": [
      "\u001b[1;31m---------------------------------------------------------------------------\u001b[0m",
      "\u001b[1;31mNameError\u001b[0m                                 Traceback (most recent call last)",
      "\u001b[1;32m<ipython-input-7-e23620b3c264>\u001b[0m in \u001b[0;36m<module>\u001b[1;34m\u001b[0m\n\u001b[0;32m     13\u001b[0m \u001b[1;33m\u001b[0m\u001b[0m\n\u001b[0;32m     14\u001b[0m \u001b[0mstartUps_num_tr\u001b[0m \u001b[1;33m=\u001b[0m \u001b[0mnum_pipeline\u001b[0m\u001b[1;33m.\u001b[0m\u001b[0mfit_transform\u001b[0m\u001b[1;33m(\u001b[0m\u001b[0mstartUps_num\u001b[0m\u001b[1;33m)\u001b[0m\u001b[1;33m\u001b[0m\u001b[1;33m\u001b[0m\u001b[0m\n\u001b[1;32m---> 15\u001b[1;33m \u001b[0mplt\u001b[0m\u001b[1;33m.\u001b[0m\u001b[0mplot\u001b[0m\u001b[1;33m(\u001b[0m\u001b[0mstartUps_num_tr\u001b[0m\u001b[1;33m)\u001b[0m\u001b[1;33m\u001b[0m\u001b[1;33m\u001b[0m\u001b[0m\n\u001b[0m",
      "\u001b[1;31mNameError\u001b[0m: name 'plt' is not defined"
     ]
    }
   ],
   "source": [
    "from sklearn.pipeline import Pipeline\n",
    "from sklearn.preprocessing import StandardScaler\n",
    "from sklearn.impute import SimpleImputer\n",
    "from sklearn.base import BaseEstimator, TransformerMixin\n",
    "\n",
    "\n",
    "        \n",
    "startUps_num = startUps.drop(\"State\", axis=1)\n",
    "\n",
    "num_pipeline = Pipeline([\n",
    "        ('std_scaler', StandardScaler()),\n",
    "    ])\n",
    "\n",
    "startUps_num_tr = num_pipeline.fit_transform(startUps_num)\n",
    "plt.plot(startUps_num_tr)"
   ]
  },
  {
   "cell_type": "code",
   "execution_count": null,
   "metadata": {},
   "outputs": [],
   "source": []
  }
 ],
 "metadata": {
  "kernelspec": {
   "display_name": "Python 3",
   "language": "python",
   "name": "python3"
  },
  "language_info": {
   "codemirror_mode": {
    "name": "ipython",
    "version": 3
   },
   "file_extension": ".py",
   "mimetype": "text/x-python",
   "name": "python",
   "nbconvert_exporter": "python",
   "pygments_lexer": "ipython3",
   "version": "3.8.5"
  }
 },
 "nbformat": 4,
 "nbformat_minor": 4
}
