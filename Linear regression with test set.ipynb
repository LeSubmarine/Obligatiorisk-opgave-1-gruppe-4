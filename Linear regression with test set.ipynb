{
 "cells": [
  {
   "cell_type": "code",
   "execution_count": 1,
   "metadata": {},
   "outputs": [],
   "source": [
    "#Libraries importeret\n",
    "import pandas as pd\n",
    "import numpy as np\n",
    "import matplotlib.pyplot as plt\n",
    "from sklearn.pipeline import Pipeline\n",
    "from sklearn.preprocessing import StandardScaler\n",
    "from sklearn.linear_model import LinearRegression\n",
    "from sklearn.compose import ColumnTransformer\n",
    "from sklearn.metrics import mean_squared_error\n",
    "from sklearn.model_selection import train_test_split\n",
    "\n",
    "\n",
    "\n",
    "#Data importet\n",
    "startups = pd.read_csv(\"50_Startups.csv\")\n",
    "df = pd.DataFrame(startups)"
   ]
  },
  {
   "cell_type": "code",
   "execution_count": 2,
   "metadata": {
    "scrolled": false
   },
   "outputs": [],
   "source": [
    "#Gør train data klar\n",
    "\n",
    "\n",
    "startups_num = startups.copy().drop(\"State\", axis=1)\n",
    "\n",
    "scale_pipeline = Pipeline([\n",
    "        ('std_scaler', StandardScaler()),\n",
    "    ])\n",
    "\n",
    "\n",
    "train_set, test_set = train_test_split(startups_num, test_size=0.1, random_state=42)\n",
    "\n",
    "#Train set\n",
    "train_set_features = train_set.copy().drop(\"Profit\", axis=1)\n",
    "train_set_features_scaled = scale_pipeline.fit_transform(train_set_features)\n",
    "\n",
    "train_set_labels = train_set[[\"Profit\"]]\n",
    "train_set_labels_scaled = scale_pipeline.fit_transform(train_set_labels)\n",
    "\n",
    "\n",
    "\n",
    "#Test set\n",
    "test_set_features = test_set.copy().drop(\"Profit\", axis=1)\n",
    "test_set_features_scaled = scale_pipeline.fit_transform(test_set_features)\n",
    "\n",
    "test_set_labels = test_set[[\"Profit\"]]\n",
    "test_set_labels_scaled = scale_pipeline.fit_transform(test_set_labels)"
   ]
  },
  {
   "cell_type": "code",
   "execution_count": 3,
   "metadata": {},
   "outputs": [
    {
     "data": {
      "text/plain": [
       "LinearRegression()"
      ]
     },
     "execution_count": 3,
     "metadata": {},
     "output_type": "execute_result"
    }
   ],
   "source": [
    "#Training scaled\n",
    "\n",
    "lin_reg = LinearRegression()\n",
    "lin_reg.fit(train_set_features_scaled, train_set_labels_scaled)"
   ]
  },
  {
   "cell_type": "code",
   "execution_count": 4,
   "metadata": {},
   "outputs": [
    {
     "name": "stdout",
     "output_type": "stream",
     "text": [
      "0.2157574942141338\n",
      "0.23699593724089543\n"
     ]
    }
   ],
   "source": [
    "#Root mean square error for train set scaled\n",
    "predicted_labels = lin_reg.predict(train_set_features_scaled)\n",
    "RMSE_train_scaled = np.sqrt(mean_squared_error(train_set_labels_scaled, predicted_labels))\n",
    "print(RMSE_train_scaled)\n",
    "\n",
    "#Root mean square error for test set scaled\n",
    "predicted_labels = lin_reg.predict(test_set_features_scaled)\n",
    "RMSE_test_scaled = np.sqrt(mean_squared_error(test_set_labels_scaled, predicted_labels))\n",
    "print(RMSE_test_scaled)"
   ]
  },
  {
   "cell_type": "code",
   "execution_count": 5,
   "metadata": {},
   "outputs": [
    {
     "data": {
      "text/plain": [
       "LinearRegression()"
      ]
     },
     "execution_count": 5,
     "metadata": {},
     "output_type": "execute_result"
    }
   ],
   "source": [
    "#Training not scaled\n",
    "\n",
    "lin_reg = LinearRegression()\n",
    "lin_reg.fit(train_set_features, train_set_labels)"
   ]
  },
  {
   "cell_type": "code",
   "execution_count": 7,
   "metadata": {},
   "outputs": [
    {
     "name": "stdout",
     "output_type": "stream",
     "text": [
      "8839.852236264893\n",
      "9349.323687347814\n"
     ]
    }
   ],
   "source": [
    "#Root mean square error for train set\n",
    "predicted_labels = lin_reg.predict(train_set_features)\n",
    "RMSE_train = np.sqrt(mean_squared_error(train_set_labels, predicted_labels))\n",
    "print(RMSE_train)\n",
    "\n",
    "#Root mean square error for test set\n",
    "predicted_labels = lin_reg.predict(test_set_features)\n",
    "RMSE_test = np.sqrt(mean_squared_error(test_set_labels, predicted_labels))\n",
    "print(RMSE_test)"
   ]
  },
  {
   "cell_type": "code",
   "execution_count": 10,
   "metadata": {},
   "outputs": [
    {
     "name": "stdout",
     "output_type": "stream",
     "text": [
      "0.9103847801189362\n",
      "0.9455071331231825\n"
     ]
    }
   ],
   "source": [
    "print(RMSE_train_scaled / RMSE_test_scaled)\n",
    "print(RMSE_train / RMSE_test)\n",
    "print()"
   ]
  },
  {
   "cell_type": "code",
   "execution_count": null,
   "metadata": {},
   "outputs": [],
   "source": []
  }
 ],
 "metadata": {
  "kernelspec": {
   "display_name": "Python 3",
   "language": "python",
   "name": "python3"
  },
  "language_info": {
   "codemirror_mode": {
    "name": "ipython",
    "version": 3
   },
   "file_extension": ".py",
   "mimetype": "text/x-python",
   "name": "python",
   "nbconvert_exporter": "python",
   "pygments_lexer": "ipython3",
   "version": "3.8.5"
  }
 },
 "nbformat": 4,
 "nbformat_minor": 4
}
