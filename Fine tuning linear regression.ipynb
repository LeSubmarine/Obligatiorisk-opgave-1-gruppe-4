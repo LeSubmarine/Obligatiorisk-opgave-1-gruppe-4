{
 "cells": [
  {
   "cell_type": "code",
   "execution_count": 1,
   "metadata": {},
   "outputs": [],
   "source": [
    "#Libraries importeret\n",
    "import pandas as pd\n",
    "import numpy as np\n",
    "import matplotlib.pyplot as plt\n",
    "from sklearn.pipeline import Pipeline\n",
    "from sklearn.preprocessing import StandardScaler\n",
    "from sklearn.linear_model import LinearRegression\n",
    "from sklearn.compose import ColumnTransformer\n",
    "from sklearn.metrics import mean_squared_error\n",
    "from sklearn.model_selection import train_test_split\n",
    "from sklearn.model_selection import cross_val_score\n",
    "\n",
    "\n",
    "\n",
    "#Data importet\n",
    "startups = pd.read_csv(\"50_Startups.csv\")\n",
    "df = pd.DataFrame(startups)"
   ]
  },
  {
   "cell_type": "code",
   "execution_count": 2,
   "metadata": {},
   "outputs": [],
   "source": [
    "#Gør train data klar\n",
    "\n",
    "\n",
    "startups_num = startups.copy().drop(\"State\", axis=1)\n",
    "\n",
    "scale_pipeline = Pipeline([\n",
    "        ('std_scaler', StandardScaler()),\n",
    "    ])\n",
    "scale_pipeline.fit_transform(startups_num)\n",
    "\n",
    "#Features and labels scaled and not scaled\n",
    "startups_features = startups_num.copy().drop(\"Profit\", axis=1)\n",
    "startups_features_scaled = scale_pipeline.fit_transform(startups_features)\n",
    "\n",
    "startups_labels = startups_num.copy()[[\"Profit\"]]\n",
    "startups_labels_scaled = scale_pipeline.fit_transform(startups_labels)\n",
    "\n",
    "\n",
    "\n",
    "#Split\n",
    "train_set, test_set = train_test_split(startups_num, test_size=0.1, random_state=42)\n",
    "\n",
    "\n",
    "#Train set\n",
    "train_set_features = train_set.copy().drop(\"Profit\", axis=1)\n",
    "train_set_features_scaled = scale_pipeline.fit_transform(train_set_features)\n",
    "\n",
    "train_set_labels = train_set[[\"Profit\"]]\n",
    "train_set_labels_scaled = scale_pipeline.fit_transform(train_set_labels)\n",
    "\n",
    "\n",
    "\n",
    "#Test set\n",
    "test_set_features = test_set.copy().drop(\"Profit\", axis=1)\n",
    "test_set_features_scaled = scale_pipeline.fit_transform(test_set_features)\n",
    "\n",
    "test_set_labels = test_set[[\"Profit\"]]\n",
    "test_set_labels_scaled = scale_pipeline.fit_transform(test_set_labels)"
   ]
  },
  {
   "cell_type": "code",
   "execution_count": 3,
   "metadata": {},
   "outputs": [],
   "source": [
    "#Support function\n",
    "def display_scores(scores):\n",
    "    print(\"Scores:\", scores)\n",
    "    print(\"Mean:\", scores.mean())\n",
    "    print(\"Standard deviation:\", scores.std())"
   ]
  },
  {
   "cell_type": "code",
   "execution_count": 4,
   "metadata": {
    "scrolled": true
   },
   "outputs": [
    {
     "data": {
      "text/plain": [
       "LinearRegression()"
      ]
     },
     "execution_count": 4,
     "metadata": {},
     "output_type": "execute_result"
    }
   ],
   "source": [
    "#Training scaled\n",
    "\n",
    "lin_reg_scaled = LinearRegression()\n",
    "lin_reg_scaled.fit(train_set_features_scaled, train_set_labels_scaled)"
   ]
  },
  {
   "cell_type": "code",
   "execution_count": 5,
   "metadata": {},
   "outputs": [
    {
     "name": "stdout",
     "output_type": "stream",
     "text": [
      "Scores: [0.23408309 0.22467619 0.16379225 0.34375427]\n",
      "Mean: 0.2415764509230569\n",
      "Standard deviation: 0.06486998268974374\n"
     ]
    }
   ],
   "source": [
    "scores = cross_val_score(lin_reg_scaled, startups_features_scaled, startups_labels_scaled,\n",
    "                         scoring=\"neg_mean_squared_error\", cv=4)\n",
    "lin_scaled_rmse_scores = np.sqrt(-scores)\n",
    "display_scores(lin_scaled_rmse_scores)"
   ]
  },
  {
   "cell_type": "code",
   "execution_count": 6,
   "metadata": {},
   "outputs": [
    {
     "data": {
      "text/plain": [
       "LinearRegression()"
      ]
     },
     "execution_count": 6,
     "metadata": {},
     "output_type": "execute_result"
    }
   ],
   "source": [
    "#Training not scaled\n",
    "\n",
    "lin_reg = LinearRegression()\n",
    "lin_reg.fit(train_set_features_scaled, train_set_labels_scaled)"
   ]
  },
  {
   "cell_type": "code",
   "execution_count": 7,
   "metadata": {},
   "outputs": [
    {
     "name": "stdout",
     "output_type": "stream",
     "text": [
      "Scores: [ 9340.16892301  8964.82320191  6535.48807824 13716.16769619]\n",
      "Mean: 9639.161974838788\n",
      "Standard deviation: 2588.3825516195966\n"
     ]
    }
   ],
   "source": [
    "scores = cross_val_score(lin_reg, startups_features, startups_labels,\n",
    "                         scoring=\"neg_mean_squared_error\", cv=4)\n",
    "lin_rmse_scores = np.sqrt(-scores)\n",
    "display_scores(lin_rmse_scores)"
   ]
  },
  {
   "cell_type": "code",
   "execution_count": 8,
   "metadata": {},
   "outputs": [
    {
     "name": "stdout",
     "output_type": "stream",
     "text": [
      "Scores: [ 9340.16892301  8964.82320191  6535.48807824 13716.16769619]\n",
      "Mean: 9639.161974838788\n",
      "Standard deviation: 2588.3825516195966\n"
     ]
    }
   ],
   "source": [
    "#Scores with normal data and scaled model\n",
    "scores = cross_val_score(lin_reg_scaled, startups_features, startups_labels,\n",
    "                         scoring=\"neg_mean_squared_error\", cv=4)\n",
    "lin_rmse_scores = np.sqrt(-scores)\n",
    "display_scores(lin_rmse_scores)"
   ]
  }
 ],
 "metadata": {
  "kernelspec": {
   "display_name": "Python 3",
   "language": "python",
   "name": "python3"
  },
  "language_info": {
   "codemirror_mode": {
    "name": "ipython",
    "version": 3
   },
   "file_extension": ".py",
   "mimetype": "text/x-python",
   "name": "python",
   "nbconvert_exporter": "python",
   "pygments_lexer": "ipython3",
   "version": "3.8.5"
  }
 },
 "nbformat": 4,
 "nbformat_minor": 4
}
